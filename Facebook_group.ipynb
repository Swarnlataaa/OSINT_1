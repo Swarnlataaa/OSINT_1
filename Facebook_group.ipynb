import facebook

# Facebook Graph API credentials (replace with your own)
access_token = "your_access_token"
group_id = "your_group_id"

graph = facebook.GraphAPI(access_token)

# Get posts from a Facebook group
posts = graph.get_connections(id=group_id, connection_name="feed")

# Print post details
for post in posts['data']:
    print(f"Message: {post.get('message', 'No message')}")
    print(f"Likes: {post['likes']['summary']['total_count']}")
    print(f"Comments: {post['comments']['summary']['total_count']}")
    print("-" * 50)
