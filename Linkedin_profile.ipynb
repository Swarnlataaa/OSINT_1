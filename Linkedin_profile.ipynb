from linkedin_scraper import Person, actions

# Example LinkedIn profile URL
profile_url = "https://www.linkedin.com/in/johndoe"

# Login to LinkedIn (provide your own credentials)
email = "your_email@example.com"
password = "your_password"
actions.login(email, password)

# Get LinkedIn profile information
person = Person(profile_url)
print(f"Name: {person.name}")
print(f"Headline: {person.headline}")
print(f"Connections: {person.connections}")
print("-" * 50)
