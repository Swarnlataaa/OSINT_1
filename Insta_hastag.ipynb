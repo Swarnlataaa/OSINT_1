from instaloader import Instaloader, Hashtag

# Instagram hashtag (replace with your own)
hashtag_name = "python"

loader = Instaloader()

# Get posts with a specific hashtag
hashtag = Hashtag.from_name(loader.context, hashtag_name)
posts = hashtag.get_top_posts()

# Print post details
for post in posts:
    print(f"Caption: {post.caption}")
    print(f"Likes: {post.likes}")
    print(f"Comments: {post.comments}")
    print("-" * 50)
