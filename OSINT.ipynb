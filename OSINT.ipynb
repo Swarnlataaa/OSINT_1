{
  "nbformat": 4,
  "nbformat_minor": 0,
  "metadata": {
    "colab": {
      "provenance": [],
      "authorship_tag": "ABX9TyNWp+1zpQzuEmKDK0C2GCin",
      "include_colab_link": true
    },
    "kernelspec": {
      "name": "python3",
      "display_name": "Python 3"
    },
    "language_info": {
      "name": "python"
    }
  },
  "cells": [
    {
      "cell_type": "markdown",
      "metadata": {
        "id": "view-in-github",
        "colab_type": "text"
      },
      "source": [
        "<a href=\"https://colab.research.google.com/github/Swarnlataaa/OSINT_1/blob/main/OSINT.ipynb\" target=\"_parent\"><img src=\"https://colab.research.google.com/assets/colab-badge.svg\" alt=\"Open In Colab\"/></a>"
      ]
    },
    {
      "cell_type": "code",
      "execution_count": null,
      "metadata": {
        "id": "JC2MP2ypxyxE"
      },
      "outputs": [],
      "source": [
        "pip install tweepy\n"
      ]
    },
    {
      "cell_type": "code",
      "source": [
        "import tweepy\n",
        "\n",
        "# Twitter API credentials\n",
        "consumer_key = \"your_consumer_key\"\n",
        "consumer_secret = \"your_consumer_secret\"\n",
        "access_token = \"your_access_token\"\n",
        "access_token_secret = \"your_access_token_secret\"\n",
        "\n",
        "\n",
        "\n"
      ],
      "metadata": {
        "id": "V57kc900yvEM"
      },
      "execution_count": null,
      "outputs": []
    },
    {
      "cell_type": "code",
      "source": [
        "# Initialize Tweepy\n",
        "auth = tweepy.OAuthHandler(consumer_key, consumer_secret)\n",
        "auth.set_access_token(access_token, access_token_secret)\n",
        "api = tweepy.API(auth, wait_on_rate_limit=True)\n"
      ],
      "metadata": {
        "id": "HTySO6Y6y-Vp"
      },
      "execution_count": null,
      "outputs": []
    },
    {
      "cell_type": "code",
      "source": [
        "# Define your search query\n",
        "search_query = \"OSINT\"  # Change this to your desired keyword or hashtag\n",
        "\n",
        "# Collect tweets\n",
        "try:\n",
        "    tweets = tweepy.Cursor(api.search, q=search_query, lang=\"en\", tweet_mode=\"extended\").items(10)  # You can adjust the number of tweets\n",
        "    for tweet in tweets:\n",
        "        print(f\"Tweet by {tweet.user.screen_name}: {tweet.full_text}\")\n",
        "        print(\"-\" * 50)\n",
        "\n",
        "except tweepy.TweepError as e:\n",
        "    print(f\"Error: {str(e)}\")"
      ],
      "metadata": {
        "id": "TwcgSmXCzAcz"
      },
      "execution_count": null,
      "outputs": []
    },
    {
      "cell_type": "markdown",
      "source": [
        "### Make sure to replace\n",
        "- \"your_consumer_key\",\n",
        "- \"your_consumer_secret\",\n",
        "- \"your_access_token\", and\n",
        "-  \"your_access_token_secret\" with your actual Twitter API   credentials.\n",
        "- Also, customize the search_query variable to the topic or hashtag you are interested in."
      ],
      "metadata": {
        "id": "HCRQvQQpzNCW"
      }
    },
    {
      "cell_type": "code",
      "source": [],
      "metadata": {
        "id": "5gBOVl7tzWOt"
      },
      "execution_count": null,
      "outputs": []
    }
  ]
}