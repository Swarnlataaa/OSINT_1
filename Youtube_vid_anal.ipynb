from googleapiclient.discovery import build

# YouTube API credentials (replace with your own)
api_key = "your_api_key"
video_id = "your_video_id"

youtube = build('youtube', 'v3', developerKey=api_key)

# Get video details
video_response = youtube.videos().list(id=video_id, part='snippet,statistics').execute()
video_snippet = video_response['items'][0]['snippet']

print(f"Title: {video_snippet['title']}")
print(f"Views: {video_response['items'][0]['statistics']['viewCount']}")
print(f"Likes: {video_response['items'][0]['statistics']['likeCount']}")
print(f"Comments: {video_response['items'][0]['statistics']['commentCount']}")
print("-" * 50)
